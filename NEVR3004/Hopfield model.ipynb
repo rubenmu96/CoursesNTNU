{
 "cells": [
  {
   "cell_type": "markdown",
   "id": "5279035f-b389-459a-9b30-88b48e5167af",
   "metadata": {},
   "source": [
    "# The Hopfield model\n",
    "\n",
    "The Hopfield model is a recurrent neural network that can be used for simple pattern recognition. We will now implement a Hopfield network from scratch."
   ]
  },
  {
   "cell_type": "markdown",
   "id": "780a77e3-532b-4bb4-b674-c1bc3e8dc32a",
   "metadata": {},
   "source": [
    "## Weights\n",
    "\n",
    "The weights, W, in a Hopfield network are symmetric and self-connected. This means that\n",
    "\\begin{align}\n",
    "w_{ij} =& w_{ji}\\\\\n",
    "w_{ij} =& 0 \\quad \\text{ for } \\quad i = j\n",
    "\\end{align}"
   ]
  },
  {
   "cell_type": "code",
   "execution_count": null,
   "id": "f8dc1503-5db1-4ed0-8a67-395bca620c60",
   "metadata": {},
   "outputs": [],
   "source": [
    "def Weight_matrix(N,n_patt,patts):\n",
    "    tmp = np.zeros((N,N))\n",
    "    W = np.zeros((N,N))\n",
    "    for i in range(N):\n",
    "        for j in range(N):\n",
    "            if i != j:\n",
    "                for p in range(n_patt):\n",
    "                    tmp[i,j] = tmp[i,j] +  patts[p,i]*patts[p,j]\n",
    "                W[i,j] = tmp[i,j]/N\n",
    "    return W"
   ]
  },
  {
   "cell_type": "code",
   "execution_count": null,
   "id": "0cefd2ef-57ae-4cf3-9eb0-5e7d7071cb3b",
   "metadata": {},
   "outputs": [],
   "source": [
    "def Noise(N, patts, noise_pattern, noise_prob):\n",
    "    S = np.zeros(N)\n",
    "    rand_inds = random.sample(range(0,N),int(noise_prob*N))\n",
    "    S[:] = patts[noise_pattern,:]\n",
    "        \n",
    "    for i in rand_inds:\n",
    "        if random.uniform(0,1) < 0.5:\n",
    "            S[i] = -1\n",
    "        else:\n",
    "            S[i] = 1\n",
    "    return S\n",
    "\n",
    "def Energy(N):\n",
    "    E = N\n",
    "    return E"
   ]
  },
  {
   "cell_type": "code",
   "execution_count": null,
   "id": "aab15a3f-fc5c-4f86-9b88-dcbf9c6d5851",
   "metadata": {},
   "outputs": [],
   "source": [
    "def Hopfield(N,n_patt,T,noise_prob,noise_pattern, plot_weights):\n",
    "    # Initialize parameters\n",
    "    patts = np.zeros((n_patt,N))\n",
    "    update_inds = np.matlib.repmat(range(N),1,100)\n",
    "    # Create random patterns\n",
    "    for j in range(n_patt):\n",
    "        for i in range(N):\n",
    "            patts[j,i] = np.random.choice((-1,1), p=[0.5,0.5])\n",
    "    mP = np.zeros((n_patt,T))\n",
    "    # Weight matrix\n",
    "    W = Weight_matrix(N,n_patt,patts)\n",
    "    if plot_weights == True:\n",
    "        plt.imshow(W)\n",
    "        plt.colorbar()\n",
    "        plt.show()\n",
    "    # Add random noise with probability noise_prob to pattern noise_pattern\n",
    "    S = Noise(N, patts, noise_pattern, noise_prob)\n",
    "    for t in range(T):\n",
    "        for p in range(n_patt):\n",
    "            mP[p,t] = np.dot(S,patts[p,:])/N\n",
    "        h = np.dot(S,W)\n",
    "        ind = update_inds[0][t]\n",
    "        S[ind] = np.sign(h[ind])\n",
    "    # Plot how the patterns overlap with the pattern noise_pattern\n",
    "    for i in range(n_patt):\n",
    "        plt.plot(mP[i,:],label = str(i+1))\n",
    "    plt.legend()\n",
    "    plt.show()\n",
    "\n",
    "def main():\n",
    "    Patterns = 12 # Number of patterns\n",
    "    Neurons = 200 # Number of neurons\n",
    "    Time = Neurons + int(Neurons/4) # add some extra values for better visualization\n",
    "    i = 0 # Pattern we want to add random noise to\n",
    "    Plot = False # To visualize or not visualize the weights\n",
    "    Hopfield(Neurons,Patterns,Time,0.5,i, Plot)\n",
    "\n",
    "if __name__ == '__main__':\n",
    "    main()"
   ]
  }
 ],
 "metadata": {
  "kernelspec": {
   "display_name": "Python 3 (ipykernel)",
   "language": "python",
   "name": "python3"
  },
  "language_info": {
   "codemirror_mode": {
    "name": "ipython",
    "version": 3
   },
   "file_extension": ".py",
   "mimetype": "text/x-python",
   "name": "python",
   "nbconvert_exporter": "python",
   "pygments_lexer": "ipython3",
   "version": "3.7.11"
  }
 },
 "nbformat": 4,
 "nbformat_minor": 5
}
